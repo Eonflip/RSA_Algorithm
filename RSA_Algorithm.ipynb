{
 "cells": [
  {
   "cell_type": "markdown",
   "metadata": {},
   "source": [
    "## RSA - The Project"
   ]
  },
  {
   "cell_type": "markdown",
   "metadata": {},
   "source": [
    "Name: Ian Jones\n",
    "\n",
    "Moodle Email: iajo5012@colorado.edu\n",
    "\n",
    "Name your file \"cuidentikey\".ipynb  This means YOUR identikey. \n",
    "\n",
    "**Do NOT delete instructions or pre-existing comments in the code. Removal will trigger significat point reductions** \n",
    "\n",
    "**Required: Add your own comments as if the instructions and comments are not visible - this allows you to customize your project after the course**\n",
    "\n"
   ]
  },
  {
   "cell_type": "markdown",
   "metadata": {},
   "source": [
    "**The Prompt:**\n",
    "\n",
    "Your boss has been long intrigued by the RSA algorthim and has asked you to create a turorial RSA walk through and exploration project to help the boss and others in the company to understand the basic structures and mathematics of an RSA implementation.\n",
    "\n",
    "Your project will:\n",
    "1. Implement the algorithm for breaking codes with a given basic structure. \n",
    "2. Explain the steps in an \"Interview Grading Style\" with Jupyter Lab Text blocks demostrating and explaining the function as you go. \n",
    "3. These demonstrations, explanations, and code comments must demonstrate that you understand the code and what it is doing. \n",
    "4. After the basic implementation you will rewrite the code completely with your own improvements, or copy the basic code package and add new features. This will be your custom feature.\n",
    "5. IMPORTANT - in the first implementation you will keep all instructions, given comments in the code, and use the variable names and set up as given. For your custom feature you may remove these and make the code \"your own.\" ALL CHANGE must be explained in text - why did you change/make improvements? We should be able to see how you adapted the orginal code.\n",
    "\n",
    "\n",
    "\n",
    "\n"
   ]
  },
  {
   "cell_type": "markdown",
   "metadata": {},
   "source": [
    "<hr />\n",
    "\n",
    "# Table of Contents/Grading Structure\n",
    "\n",
    "#### 0. Bonus +/- Overall structure, code comments, and following directions. (Score may go up or down if overall structure or format is excellent or incomplete). Not extra credit.\n",
    "\n",
    "## 1. Introduction to your RSA Project (5 points)\n",
    "\n",
    "\n",
    "## 2. Code Package: FME    (10 points)\n",
    "        * Convert_Binary_String \n",
    "        * FME\n",
    "\n",
    "## 3. Code Package: Key Generation using Euclidean Algorithms    (10 points)\n",
    "        * Euclidean Algorithm\n",
    "        * Extended EA\n",
    "        * Find_Public_Key_e\n",
    "        * Find_Private_Key_d\n",
    "\n",
    "## 4. Code Package: En/Decode Your Messages  (10 points)\n",
    "        * Convert_Text\n",
    "        * Convert_Num\n",
    "        * Encode\n",
    "        * Decode\n",
    "\n",
    "\n",
    "## 5. Create a Code Demo(10 points)\n",
    "\n",
    "## 6. Code Exchange Results  (5 points)\n",
    "\n",
    "## 7. Write a Narrative (25 points)\n",
    "\n",
    "## 8. Code Breaking:  (10 points)\n",
    "\n",
    "## 9. Code Breaking: Complete Examples  (5 points)\n",
    "\n",
    "## 10. Custom code feature / Advanced options  (10 points) \n",
    "\n",
    "\n",
    "    \n"
   ]
  },
  {
   "cell_type": "markdown",
   "metadata": {},
   "source": []
  },
  {
   "cell_type": "markdown",
   "metadata": {},
   "source": []
  },
  {
   "cell_type": "markdown",
   "metadata": {},
   "source": []
  },
  {
   "cell_type": "markdown",
   "metadata": {},
   "source": [
    "\n",
    "\n",
    "\n",
    "\n",
    "\n"
   ]
  },
  {
   "cell_type": "markdown",
   "metadata": {},
   "source": [
    "## 1. Introduction to your RSA Project (5 points) \n",
    "<span style=\"color:DarkRed\">Write an introduction/overview here. This should be something someone who has never seen your project could read to understand what is coming. Give a broad summarized overview of RSA components, discuss your custom feature a bit, and  include some preliminary narrative regarding your process. Much of this will be fleshed out in your narrative below, so remember to simply summarize details. This should be a robust paragraph or two of 200 - 300 words.</span>\n"
   ]
  },
  {
   "cell_type": "markdown",
   "metadata": {},
   "source": [
    "This project is an implementation of the RSA Algorithm. The RSA Algorithm is a cryptosystem utilized for secure data sharing, it's implentation pulls on number theory, prime numbers, cryptography, modulo operations, and modular inverses.\n",
    "\n",
    "Some of the pieces that are needed for this RSA Algorithm are: \n",
    "- Fast Modular Exponentiation\n",
    "- The Euclidian Algorithm\n",
    "- Bezout's Theorem\n",
    "- Modular Inverses\n",
    "- Fermat's Little Theorem\n",
    "- Chinese Remainder Theorem\n",
    "\n",
    "In the spirit of not biting off more than I could chew I worked through this project algorithm by algorithm, function by function. My process for creating this was to try an implementation of each algorithm first to ensure each individual piece worked,\n",
    "and then put them all together in 1 main program that could take in an input of a string and encrypt that message that using a public key into a list of integers, once the message is encrypted it can then be decrypted only utilizing the private key."
   ]
  },
  {
   "cell_type": "markdown",
   "metadata": {},
   "source": [
    "## 2. Code Package FME (10 points)\n",
    "\n",
    "<span style=\"color:DarkRed\"> \n",
    "\n",
    "FME is an essential function for RSA to pre-process the messages before the messages are encoded and decoded by the RSA algorithm. \n",
    "You have 3 choices of algorithms for this:\n",
    "* The Rosen Book FME - which will need Convert_Binary_String below.\n",
    "* Sriram's FME from the video.\n",
    "* Your own \"Square and Mod\" function defined with a look up table.\n",
    "    \n",
    "*Do not copy code from the internet - it is recognized immediately by our software. In particular, use of bitshifting is forbidden in the first part of the project but may be explored in the custom feature.*\n",
    "</span>\n",
    "\n"
   ]
  },
  {
   "cell_type": "code",
   "execution_count": 2,
   "metadata": {},
   "outputs": [],
   "source": [
    "def Convert_Binary_String(_int):\n",
    "    \"\"\"\n",
    "    Here, you need to define a function that converts an integer to\n",
    "    a string of its binary expansion. You may or may not need this function. \n",
    "    \n",
    "    For example:\n",
    "    _int = 345\n",
    "    bits = 101011001\n",
    "    \"\"\"\n",
    "    n = [] #Create a list to store binary values\n",
    "    while _int > 0: #Write a while loop to add each binary digit to the list\n",
    "        n.append(_int % 2) #_int modulo 2 will provide either a 0 or 1\n",
    "        _int = _int // 2 #Decrement _int by dividing by 2 (binary conversion)\n",
    "\n",
    "    n.reverse() #Since we get the binary values in a backwards list we need to reverse the list\n",
    "    n = ''.join(map(str, n)) #The binary values are in a list we want to return a string so we need to join the list on '' and map n to a string\n",
    "    return (n) #Return the final value of n which should be your binary value"
   ]
  },
  {
   "cell_type": "code",
   "execution_count": 3,
   "metadata": {},
   "outputs": [],
   "source": [
    "def FME(b, n, m):\n",
    "    \"\"\"\n",
    "    1. Using the fast modular exponentiation algorithm,\n",
    "    the below function should return b**n mod m.\n",
    "    As described on page 254. (however, you may input the exponent and \n",
    "    then convert it to a string - the book version imports the binary expansion)  \n",
    "    2. You should use the function defined above Convert_Binary_String() if using the book algorithm.\n",
    "    3. For this block you MUST use one of the 3 methods above.\n",
    "    4. Any method using bit-shifting or copied from the internet (even changing varibale names) will result in a 0.\n",
    "    \n",
    "    **If you are completely stuck, you may use pow() with a 10pt penalty.**\n",
    "\n",
    "    You may use the function you developed in your Mastery Workbook - but be sure it is your own\n",
    "    work, commented, etc. and change inputs as needed.\n",
    "    \"\"\"  \n",
    "    result = 1 # Will be used to store our final modulo value\n",
    "    square = b # Used to store our square\n",
    "    while (n > 0): # While loop to run through the binary expanded integer\n",
    "        k = n % 2 # Convert to binary value which will either be 1 or 0\n",
    "        if (k == 1): # If loop to handle the binary expanded number by place value\n",
    "            result = (result * square) % m # This will update result\n",
    "        square = (square * square) % m # Regardless of 1 or 0 take modulo of square squared\n",
    "        n = n // 2 # Move to the next value in binary expansion\n",
    "    return result # Print result for testing "
   ]
  },
  {
   "cell_type": "markdown",
   "metadata": {},
   "source": [
    "## 3. Code Package: Key Generation using Euclidean Algorithms    (10 points)\n",
    "\n",
    "<span style=\"color:DarkRed\">\n",
    "\n",
    "The functions below will generate the public and private key pairs which will then be used to create a ciphertext using the public key and then decode the same using the private key. </span>\n",
    "\n"
   ]
  },
  {
   "cell_type": "code",
   "execution_count": 4,
   "metadata": {},
   "outputs": [],
   "source": [
    "def Euclidean_Alg(a, b):\n",
    "    \"\"\"\n",
    "    1. Calculate the Greatest Common Divisor of a and b.\n",
    "    \n",
    "    2. This version should have only positive inputs and outputs.\n",
    "    \n",
    "    3. The function must return a single integer ('x') which is\n",
    "    the gcd of a and b.\n",
    "    \n",
    "    \n",
    "    \"\"\"\n",
    "    while b != 0: # Set loop termination parameter\n",
    "        remainder = a % b \n",
    "        a = b\n",
    "        b = remainder # After these assignments the loop will repeat until we have the GCD(a, b)\n",
    "    return a # Return GCD(a, b)"
   ]
  },
  {
   "cell_type": "code",
   "execution_count": 5,
   "metadata": {},
   "outputs": [],
   "source": [
    "def EEA(a, b):\n",
    "    \"\"\"\n",
    "    This is a helper function utilizing Bezout's theorem as discussed in your MW.\n",
    "    You will follow these same steps closely to construct this function.\n",
    "    \n",
    "    This version will return both: \n",
    "    1. the GCD of a, b \n",
    "    2. Bezout's coefficients in any form you wish. We recommend returning your coefficients as a list or a tuple. \n",
    "    HINT: return GCD, (s1, t1)\n",
    "    \n",
    "    * Ensure that your inputs are positive integers. Implement these kinds of checks.\n",
    "    * It might also behoove you to consider reassigning a, b to new coefficients depending on which is greater.\n",
    "    \n",
    "    \"\"\"\n",
    "    if (a < 0 or b < 0): # Set condition to ensure integers are positive\n",
    "        print (\"a and b must both be positive integers please try again\")\n",
    "        return None\n",
    "\n",
    "    s1, t1 = (1, 0) # These represent bezout coefficients we will use these to keep track of our a and b values\n",
    "    s2, t2 = (0, 1) \n",
    "    while (b > 0): # Loop through until b is 0 to find the values of bezout coefficients to correspond to bezouts theorem\n",
    "        k = a % b # Set k equal to the remainder of a divided by b\n",
    "        q = a // b # Set q the quotient equal to a integer division b we will always get a whole number\n",
    "        \n",
    "        a = b # Set new values a and b to progress the loop so we can perform the euclidian algorithm on them\n",
    "        b = k\n",
    "        \n",
    "        s1prime, t1prime = s2, t2 # This is the section that extends the Euclidian Algorithm\n",
    "        s2prime, t2prime = s1 - q * s2, t1 - q * t2 # Specifically this is the equation to find the bezout coefficients through each iteration that satisfy bezout's theorem\n",
    "        s1, t1 = s1prime, t1prime\n",
    "        s2, t2 = s2prime, t2prime\n",
    "    return(a, (s1, t1)) #Return a which at this point will be the gcd and the two bezout coefficients for a and b\n",
    "    \n",
    "    "
   ]
  },
  {
   "cell_type": "code",
   "execution_count": 6,
   "metadata": {},
   "outputs": [],
   "source": [
    "def Find_Public_Key_e(p, q):\n",
    "    \"\"\"\n",
    "    Implement this function such that\n",
    "    it takes 2 primes p and q.\n",
    "    \n",
    "    Use the gcd function that you have \n",
    "    defined before.\n",
    "    \n",
    "    The function should return 2 elements as follows:\n",
    "    public key: n\n",
    "    public key: e\n",
    "    \n",
    "    HINT: this function will run a loop to find e such \n",
    "    that e is relatively prime to (p - 1) (q - 1) \n",
    "    and not equal to p or q.\n",
    "    \n",
    "    NOTE: There are a number of ways to implement this key feature. \n",
    "    You, as the coder, can choose to how to acheive this goal.\n",
    "    \n",
    "    \"\"\"\n",
    "\n",
    "    phi = (p - 1) * (q - 1) # To represent eulers totient function\n",
    "    n = p * q # Set n equal to the product of prime inputs\n",
    "    e = 3 # Start with an arbitratily low prime number \n",
    "    while (Euclidean_Alg(e, phi) != 1 and e < phi): # Loop through until e meets the condition of being coprime with eulers totient, and is also less than phi\n",
    "        e += 2 #Keep e odd even numbers cannot be prime\n",
    "    return n, e \n",
    "    "
   ]
  },
  {
   "cell_type": "code",
   "execution_count": 7,
   "metadata": {},
   "outputs": [],
   "source": [
    "def Find_Private_Key_d(e, p, q):\n",
    "    \"\"\"\n",
    "    Implement this function to find the decryption exponent d, \n",
    "    such that d is the modular inverse of e. \n",
    "    \n",
    "    This will use the Extended Euclidean Algorithm\n",
    "    \n",
    "    This function should return the following:\n",
    "    d: the decryption component.\n",
    "    \n",
    "    This is not a single action, and there are multiple methods to create this. \n",
    "    \n",
    "    You may create a helper function or have all code within this function.\n",
    "    \n",
    "    Plan ahead before coding this.\n",
    "\n",
    "    \"\"\"\n",
    "\n",
    "\n",
    "    phi = (p - 1) * (q - 1) # Set Euler's Totient\n",
    "    gcd, (d, _) = EEA(e, phi) #Assign values gcd, d and _ with the values returned by EEA, here _ is a throwaway because really only need the modular inverse of a\n",
    "\n",
    "    if gcd != 1:\n",
    "        print(\"e and eulers totient are not coprime. A modular inverse does not exist.\") # We can't find a modular inverse if gcd is not 1\n",
    "\n",
    "    return d % phi # Here we use the modulo operator to return a d value that is not negative. \n",
    "    \n",
    "    \n",
    "    "
   ]
  },
  {
   "cell_type": "markdown",
   "metadata": {},
   "source": [
    "## 4. Code Package: En/Decode Your Messages  (10 points)\n",
    "\n",
    "<span style=\"color:DarkRed\">\n",
    "\n",
    "1. In this part, you will define two functions `Encode` and `Decode` which will use the public and private keys that you calculated above.\n",
    "2. Using the public key, the `Encode` function will encode a message and generate the corresponding cipher_text.\n",
    "3. Using the private key, the `Decode` function will decode a cipher_text and recover the original message.\n",
    "4. We are proving Convert_Text and Convert_Num for you.</span>\n",
    "\n"
   ]
  },
  {
   "cell_type": "code",
   "execution_count": 8,
   "metadata": {},
   "outputs": [],
   "source": [
    "def Convert_Text(_string):\n",
    "    \"\"\"\n",
    "    Define this function such that it takes in a simple \n",
    "    string such as \"hello\" and outputs the corresponding\n",
    "    standard list of integers (ascii) for each letter in the word hello.\n",
    "    For example:\n",
    "    _string = hello\n",
    "    integer_list = [104, 101, 108, 108, 111]\n",
    "    \n",
    "    You may use \"ord()\"\n",
    "    \"\"\"\n",
    "    integer_list = [] # Define an empty list for later\n",
    "    for letter in _string: # For loop that will assess each letter in the input string\n",
    "        integer_list.append(ord(letter)) # ord here converts a character to an ascii value and we append it to integer_list\n",
    "    return integer_list # This will return a list of integers like [1, 2, 3, 4]"
   ]
  },
  {
   "cell_type": "code",
   "execution_count": 9,
   "metadata": {},
   "outputs": [],
   "source": [
    "def Convert_Num(_list):\n",
    "    \"\"\"\n",
    "    Do the opposite of what you did in the Convert_Text\n",
    "    function defined above.\n",
    "    \n",
    "    Define this function such that it takes in a list of integers\n",
    "    and outputs the corresponding string (ascii).\n",
    "    \n",
    "    For example:\n",
    "    _list = [104, 101, 108, 108, 111]\n",
    "    _string = hello\n",
    "    \"\"\"\n",
    "    _string = '' # Define an empty string for later storage\n",
    "    for i in _list: # Loop through all elements in the input list \n",
    "        _string += chr(i) # chr(i) converts each value to a character (we assume these values are ascii they are then appended to the empty string\n",
    "    return _string #Return a string of characters such as \"Math is cool\""
   ]
  },
  {
   "cell_type": "code",
   "execution_count": 10,
   "metadata": {},
   "outputs": [],
   "source": [
    "def Encode(n, e, message):\n",
    "    \"\"\"\n",
    "    Here, the message will be a string of characters.\n",
    "    Use the function Convert_Text from \n",
    "    the basic tool set and get a list of numbers.\n",
    "    \n",
    "    Encode each of these numbers using n and e and\n",
    "    return the encoded cipher_text.\n",
    "    \"\"\"\n",
    "    \n",
    "    numList = Convert_Text(message) # Call the Convert_Text to take the input message and turn it into a list of integers\n",
    "    cipher_text = [] # Define a list to hold our cipher text\n",
    "    \n",
    "    # Loop through each number in the list and call Fast Modular Exponentiation on them to encrypt and then append to our cipher text list\n",
    "    for number in numList: \n",
    "        C = FME(number, e, n)\n",
    "        cipher_text.append(C)\n",
    "\n",
    "    return cipher_text # Return a list of numbers that have been fed into the encoding cipher!"
   ]
  },
  {
   "cell_type": "code",
   "execution_count": 11,
   "metadata": {},
   "outputs": [],
   "source": [
    "def Decode(n, d, cipher_text):\n",
    "    \"\"\"\n",
    "    Here, the cipher_text will be a list of integers.\n",
    "    First, you will decrypt each of those integers using \n",
    "    n and d.\n",
    "    \n",
    "    Later, you will need to use the function Convert_Num from the \n",
    "    basic toolset to recover the original message as a string. \n",
    "    \n",
    "    \"\"\"\n",
    "    \n",
    "    message = '' # Create an empty string to hold the decrypted message\n",
    "    decrypted_nums = [] # Create an empty list to store decrypted integer values\n",
    "    \n",
    "    # Loop through each number in cipher_text input and use Fast Modular Exponentiation to decrypt each number and append to the list\n",
    "    for num in cipher_text:\n",
    "        m = FME(num, d, n)\n",
    "        decrypted_nums.append(m)\n",
    "    \n",
    "    message = Convert_Num(decrypted_nums) # Call convert num which returns a string based on the decrypted_nums integer list input\n",
    "    return message # Return our decrypted message string! "
   ]
  },
  {
   "cell_type": "markdown",
   "metadata": {
    "tags": []
   },
   "source": [
    "### <span style=\"color:DarkRed\">5.</span>  Create a Code Demo (10 points)\n",
    "<span style=\"color:DarkRed\">\n",
    "\n",
    "Construct a demonstration of your functions above. This will be a **step-by-step** guide to using your code with a specific example that we can follow using the functions you have created above **using a mix of code and Markdown blocks**. Choose your own \"Hello World\" type message or a favorite quote of your choosing to code and decode yourself.\n",
    " \n",
    "**This is essentially a test that demonstrates your code with a small walkthrough of how it works. You are simply calling the functions above. You are not using a main function or custom feature here.** Imagine this as a code interview scenario, and your interviewer/future boss wants a preliminary walkthrough of your work. Therefore, some text blocks are essential and helpful for your boss to follow your process. \n",
    "\n",
    "Note: You can change and add the type of cell block you are editing with the drop down menu above and go between Code and Markdown.\n",
    "\n",
    "**This is a mix of code blocks and text blocks** and must discuss all three parts for full credit. You must **show and explain your method and demonstrate (by calling your function as an example)** for generating keys and how your encoding and decoding functions work. \n",
    "\n",
    "For full credit: \n",
    "    \n",
    "* When you call FME, explain breifly why we can can't take the \"mod\" of our number using \"%\". \n",
    "* When you call the EEA, explain why this is so essential and really the key to RSA process.</span>\n",
    "\n"
   ]
  },
  {
   "cell_type": "markdown",
   "metadata": {},
   "source": [
    "* Demonstrate and explain how you Generate keys with code and text blocks."
   ]
  },
  {
   "cell_type": "markdown",
   "metadata": {},
   "source": [
    "## Generating Public Key E\n",
    "\n",
    "In order to allow others to encrypt messages that you can then decode you must share with them your public key, this is something that anyone can have really, but you will only be able to decrypt messages encrypted utilizing the public key with a private key.\n",
    "\n",
    "First you want to call your <strong>\"Find_Public_Key_e\"</strong> function. \n",
    "\n",
    "This function takes 2 input variables p, and q. These input variables should both be relatively large prime numbers the larger they are the harder it will be for someone to decrypt your messages.\n",
    "\n",
    "Find_Public_Key_e uses Eulers Totient and the Euclidian Algorithm\n",
    "\n",
    "<ul>\n",
    "    <li>Eulers Totient is (p-1) * (q-1) and represented as phi it is used to find our e value</li>\n",
    "    <li>The variable E must be coprime to (this is where we utilize the Euclidian Algorithm for a check) and less than Euler's Totient.</li>\n",
    "</ul>\n",
    "\n",
    "n is calculated by simply multiplying p and q together. It is a huge part of what makes these keys so hard to crack because factoring a large number into 2 primes is nearly impossible."
   ]
  },
  {
   "cell_type": "code",
   "execution_count": 12,
   "metadata": {},
   "outputs": [
    {
     "name": "stdout",
     "output_type": "stream",
     "text": [
      "Your public key n value is: 10971305311\n",
      "Your public key e value is: 3\n"
     ]
    }
   ],
   "source": [
    "n, e = Find_Public_Key_e(104729, 104759)\n",
    "\n",
    "print(\"Your public key n value is:\", n)\n",
    "print(\"Your public key e value is:\", e)"
   ]
  },
  {
   "cell_type": "markdown",
   "metadata": {},
   "source": [
    "Find_Public_Key_e returns 2 values n, and e. In this case n = 10971305311 and e = 3. You'll need these values later to encode messages, so either copy them now or come back to this to copy them later. "
   ]
  },
  {
   "cell_type": "markdown",
   "metadata": {},
   "source": [
    "## Generate Private Key D\n",
    "\n",
    "Next we'll find our private key we'll need this to decode our encrypted messages. We can call the function with 3 arguments e, p, and q in that order. \n",
    "\n",
    "We got e from our Find_Public_Key_e function before so go ahead and copy the same values you used for p, q, in Find_Public_Key_e and take the value you returned for e and use them as arguments for this function. "
   ]
  },
  {
   "cell_type": "code",
   "execution_count": 18,
   "metadata": {},
   "outputs": [
    {
     "name": "stdout",
     "output_type": "stream",
     "text": [
      "Your private key d value is: 7314063883\n"
     ]
    }
   ],
   "source": [
    "d = Find_Private_Key_d(3, 104729, 104759)\n",
    "\n",
    "print(\"Your private key d value is:\", d)"
   ]
  },
  {
   "cell_type": "markdown",
   "metadata": {},
   "source": [
    "Find_Private_Key_d again utilizes Eulers Totient to check whether or not or not e and eulers totient are coprime, if they are not it implies a modular inverse does not exist for the value e. If there is no modular inverse it means we cannot encrypt and the function will return a message stating that this is the case.\n",
    "\n",
    "Find_Private_Key_d also EEA is pivotal for the RSA algorithm to work because it utilizes Bezout's theorem which helps us discover the modluar inverse of e, and without that modular inverse we cannot calculate d\n",
    "\n",
    "The modular inverse is the key component in decoding messages, so without it we won't be able to learn what we're trying to decode. We need the modular inverse in order to implement the decoding algorithm which is \n",
    "\n",
    "$$ M = C^d \\mod n $$\n",
    "\n",
    "Where M stands for your message, C is your ciphertext, d is the modular inverse to e and n is the product of your two large prime numbers p & q"
   ]
  },
  {
   "cell_type": "markdown",
   "metadata": {},
   "source": [
    "* Demonstrate and explain how you encode a message with code and text blocks."
   ]
  },
  {
   "cell_type": "markdown",
   "metadata": {},
   "source": [
    "Great now we should have our numbers we'll need to encode and decode messages. Let's start with encoding. To encode a message call the Encode function with 3 arguments\n",
    "\n",
    "<ul>\n",
    "    <li> <strong>n</strong>: The first number you got back from Find_Public_Key_e</li>\n",
    "    <li><strong>e</strong>: The second number you got back from Find_Public_Key_e</li>\n",
    "    <li><strong>message</strong>: A string that you want to encode. Something like \"Math is cool!\". It can contain special characters, numbers or letters!</li>\n",
    "</ul>\n",
    "\n",
    "\n",
    "Once you've input your information you should get a returned list of integers. These integers represent each character in your message in encoded ascii values. These values can be put into a decode function to decipher the message."
   ]
  },
  {
   "cell_type": "code",
   "execution_count": 20,
   "metadata": {},
   "outputs": [
    {
     "name": "stdout",
     "output_type": "stream",
     "text": [
      "Your encoded message is:  [77, 97, 116, 104, 32, 105, 115, 32, 99, 111, 111, 108]\n"
     ]
    }
   ],
   "source": [
    "cipherText = Encode(10971305311, 3, \"Math is cool\")\n",
    "\n",
    "print(\"Your encoded message is: \", cipherText)"
   ]
  },
  {
   "cell_type": "markdown",
   "metadata": {},
   "source": [
    "* Demonstrate and explain how you decode the same message with code and text blocks.\n"
   ]
  },
  {
   "cell_type": "markdown",
   "metadata": {},
   "source": [
    "Now we want to reverse the process of encoding the message that we have recieved but in order to do so we'll need 3 variables, n, d, and the ciphertext. \n",
    "\n",
    "<ul>\n",
    "    <li>n: The number you got as the first return value from Find_Public_Key_e. This represents p * q</li>\n",
    "    <li>d: The number you got from Find_Private_Key_d, this represents the modular inverse of e</li>\n",
    "    <li>cipher_text: A list of integers that you get from Encode</li>\n",
    "</ul>\n",
    "\n",
    "Once you input this information into the function you should get back a string of text or the decoded message you were looking for!"
   ]
  },
  {
   "cell_type": "code",
   "execution_count": 21,
   "metadata": {},
   "outputs": [
    {
     "name": "stdout",
     "output_type": "stream",
     "text": [
      "Your decoded message is: Math is cool\n"
     ]
    }
   ],
   "source": [
    "message = Decode(10971305311, 7314063883, [77, 97, 116, 104, 32, 105, 115, 32, 99, 111, 111, 108])\n",
    "\n",
    "print(\"Your decoded message is:\", message)"
   ]
  },
  {
   "cell_type": "markdown",
   "metadata": {},
   "source": [
    "### 6. Code Exchange Results (5 points) \n",
    "<span style=\"color:DarkRed\"> Now that your code is working and you are able read and write messages, include 3 complete examples of exchanging code (and exchange is both reading a message and responding) from Piazza here.  Both call your code and output code exchange results here. \n",
    "We are just looking to see which 3 codes you have exchanged in Piazza.</span>"
   ]
  },
  {
   "cell_type": "markdown",
   "metadata": {},
   "source": [
    "### 7. Write a Narrative (25 points) \n",
    "<span style=\"color:DarkRed\">TWO pages of meaningful narrative about your process - not including the examples -  (800 words) here in this block. Include specifc examples of debugging an challenges referencing your individual process. Responses that are vague, lacking in specific and individual details, or sound like CHatGPT will not recive full credit. Include the following:\n",
    "\n",
    "* Describe your process. Did you plan ahead? Did you wing it? What have you learned about your own process? \n",
    "* Describe the results of exchanging keys and codes with classmates. Did it work the first time or did you need to make adjustments?<span style = \"color:white\">  Use the word fortitude\n",
    "\n",
    "* What was most challenging? <span style = \"color:white\">  Use a cooking metaphor.\n",
    "\n",
    "* Who helped you with your project?  Which resources were most helpful?\n",
    "\n",
    "* What was your Best Mistake? (funniest? most frustrating? the one you learned the most from?)</span>"
   ]
  },
  {
   "cell_type": "markdown",
   "metadata": {},
   "source": [
    "My process for this project was actually very well plotted thanks to the course and how it was paced. I think that if I had started from scratch and been told to look up fast modular exponentiation on my own I would have felt overwhelmed. However, going through step by step starting with how a modulo works, going over number theory and primes, and working all the way up to Bezout's Theorem and Modular inverses really helped me out a ton. It was a slow but incredibly valuable journey. I took my time and tried to implement spaced repetition with these methods because honestly it takes me a while to fully understand what's going on. This has disheartened me in the past but seeing these methods and theorems implmented in real time has really been such an incredible learning moment for me, and the fact that I feel I've been able to understand it has been a testament to this classes multi-modal learning methods: Watching the lectures, reading the book, doing the mastery workbooks, it's been so absolutley rigerous and phenomenal for me.\n",
    "\n",
    "I digress, so when starting this project I was on week 7, and I came in and wrote Fast Modular Exponentiation which was a challenge in itself but after just touching on this material for the class it felt very doable, it also helped me chunk this project because after writing just a single working function it made me feel very capable and as if at least a small piece of the project was completed and that I had already started. In my experience starting a big project is always the hardest part, going from thought to action is a big blocker, but with small steps it felt much more feasible.\n",
    "\n",
    "After starting the project on week 7 for Fast Modular Exponentiation, I started taking a look at the project just to get a feel for what was coming. It primed my brain for material to watch out for and how it would connect. \n",
    "\n",
    "I think the most challenging piece of this whole project was getting all the pieces to fit together nicely, and ensure that there were no hiccups and that each function was used in the proper context. It was great to have FME and EEA, but if I used them in the improper context it could be a situation much like in cooking where I started to add add salt to just a plain pan, if there's no meat or vegtables or tofu to season why am I adding salt to an empty pan? The order mattered a lot is what I learned through the videos and textbook. Another way this was like cooking for me was honestly in that I had to look at the recipe a few times to make sure that I didn't miss any ingredients that might make it taste weird! Even reading the recipe once for me sometimes isn't enough and I need to go back and double check. \n",
    "\n"
   ]
  },
  {
   "cell_type": "markdown",
   "metadata": {
    "tags": []
   },
   "source": [
    "### 8. How to Break Code. (10 points)\n",
    "\n",
    "<span style=\"color:DarkRed\">\n",
    "\n",
    "\n",
    "**This section (and section 9 and 10) of the project is only available to students exchanging codes by the Friday (midnight) before the project is due.**\n",
    "\n",
    "**Implementing a factoring algorithm:**\n",
    "\n",
    "Begin by coding the basic brute force factorization algorithm given in pseudocode below.\n",
    "\n",
    "Brute Force Factoring\n",
    "<pre><code>def factorize(n):\n",
    "    # n is a number, return the smallest factor of n\n",
    "    for i from 2 to n-1:\n",
    "        if i divides n:\n",
    "            return i\n",
    "        return FALSE\n",
    "        </code></pre>"
   ]
  },
  {
   "cell_type": "code",
   "execution_count": 24,
   "metadata": {},
   "outputs": [
    {
     "name": "stdout",
     "output_type": "stream",
     "text": [
      "2\n"
     ]
    },
    {
     "data": {
      "text/plain": [
       "2"
      ]
     },
     "execution_count": 24,
     "metadata": {},
     "output_type": "execute_result"
    }
   ],
   "source": [
    "def factorize(n):\n",
    "    for i in range (2, n):\n",
    "        if (n % i == 0):\n",
    "            print(i)\n",
    "            return i\n",
    "    print(False)\n",
    "    return False\n",
    "\n",
    "factorize(1097598)"
   ]
  },
  {
   "cell_type": "markdown",
   "metadata": {},
   "source": [
    "<span style=\"color:DarkRed\"> After you have tested your RSA package yourself, and tested it with classmates by publishing both the private and public keys on Piazza, post 2 messages with just the public keys for people to break on the \"Just Public Keys\" thread - use both very small n ‘s (under 1000) for practice. Feel free to come up with n's that create a challenge.\n",
    "        \n",
    "* Explain in detail how breaking works in this section using markdown blocks. Demo a short example with a small n. What are the complete steps? What tools do you need? <span style = \"color:white\">  Use a sports metaphor.\n",
    "* Try brute forcing a larger value of n, say 15-18 digits long. What do you notice? (If this is taking a while, just ride it out, or Ctrl+C will KeyboardInterrupt the cell block). Provide a sample large n that will take ~3-5 min to crack. \n",
    "    * Optional Challenge: Consider illustrating this with python math and time modules. matplotlib and time are good examples. Documentation is available.\n",
    "* How secure is RSA? Why is it difficult to break codes in RSA? \n",
    "* Is our implementation of RSA secure? What are it's flaws? </span>"
   ]
  },
  {
   "cell_type": "markdown",
   "metadata": {
    "tags": []
   },
   "source": [
    "### 9. Code Breaking: Complete Examples (5 points)\n",
    "\n",
    "<span style=\"color:DarkRed\">\n",
    "\n",
    "* Decode one example from Piazza in detail showing all the steps. Use a combination of code and markdown blocks.\n",
    "* Decode and Respond to 3 \"just codes with public keys\" in Piazza with different sizes of n. Include complete results here - you may just show the results here.</span>\n"
   ]
  },
  {
   "cell_type": "markdown",
   "metadata": {},
   "source": [
    "\n",
    "### 10. Custom CODE Feature  (10 points) ##\n",
    "<span style=\"color:DarkRed\">- The custom feature should be a \"Stand Alone\" feature at the end of the notebook. \n",
    "- If you need  to use code from above, please copy the entire package and functions again as part of your feature so it can be tested independently. \n",
    "- You may remove the give code comments in this section.\n",
    "- Be sure to provide a demonstration showing that it works. See RSA Guide for more information and suggestions. \n",
    "- Include a narrative describing your project.\n",
    "- All custom features must include a narrative explaining the features and all code must be commented.</span>\n",
    "\n",
    "**Do not forget the self-grading element.**\n"
   ]
  },
  {
   "cell_type": "code",
   "execution_count": 17,
   "metadata": {},
   "outputs": [
    {
     "name": "stdout",
     "output_type": "stream",
     "text": [
      "Please select a number 1-4: \n",
      "[1]: Get Public and Private Keys\n",
      "[2]: Encode a message\n",
      "[3]: Decode a message\n",
      "[4]: Exit\n"
     ]
    },
    {
     "ename": "ValueError",
     "evalue": "invalid literal for int() with base 10: ''",
     "output_type": "error",
     "traceback": [
      "\u001b[0;31m---------------------------------------------------------------------------\u001b[0m",
      "\u001b[0;31mValueError\u001b[0m                                Traceback (most recent call last)",
      "Cell \u001b[0;32mIn[17], line 52\u001b[0m\n\u001b[1;32m     46\u001b[0m         \u001b[38;5;28;01melse\u001b[39;00m: \n\u001b[1;32m     47\u001b[0m             \u001b[38;5;28mprint\u001b[39m(\u001b[38;5;124m\"\u001b[39m\u001b[38;5;124mPlease choose a number between 1 and 4\u001b[39m\u001b[38;5;124m\"\u001b[39m)\n\u001b[0;32m---> 52\u001b[0m \u001b[43mmain\u001b[49m\u001b[43m(\u001b[49m\u001b[43m)\u001b[49m\n",
      "Cell \u001b[0;32mIn[17], line 9\u001b[0m, in \u001b[0;36mmain\u001b[0;34m()\u001b[0m\n\u001b[1;32m      7\u001b[0m \u001b[38;5;28mprint\u001b[39m(\u001b[38;5;124m\"\u001b[39m\u001b[38;5;124m[3]: Decode a message\u001b[39m\u001b[38;5;124m\"\u001b[39m)\n\u001b[1;32m      8\u001b[0m \u001b[38;5;28mprint\u001b[39m(\u001b[38;5;124m\"\u001b[39m\u001b[38;5;124m[4]: Exit\u001b[39m\u001b[38;5;124m\"\u001b[39m)\n\u001b[0;32m----> 9\u001b[0m userChoice \u001b[38;5;241m=\u001b[39m \u001b[38;5;28;43mint\u001b[39;49m\u001b[43m(\u001b[49m\u001b[38;5;28;43minput\u001b[39;49m\u001b[43m(\u001b[49m\u001b[43m)\u001b[49m\u001b[43m)\u001b[49m\n\u001b[1;32m     14\u001b[0m \u001b[38;5;28;01mif\u001b[39;00m (userChoice \u001b[38;5;241m==\u001b[39m \u001b[38;5;241m1\u001b[39m):\n\u001b[1;32m     15\u001b[0m     \u001b[38;5;28mprint\u001b[39m(\u001b[38;5;124m\"\u001b[39m\u001b[38;5;124mPlease enter a large prime number for p\u001b[39m\u001b[38;5;124m\"\u001b[39m)\n",
      "\u001b[0;31mValueError\u001b[0m: invalid literal for int() with base 10: ''"
     ]
    }
   ],
   "source": [
    "def main(): \n",
    "\n",
    "    while True:\n",
    "        print(\"Please select a number 1-4: \")\n",
    "        print(\"[1]: Get Public and Private Keys\")\n",
    "        print(\"[2]: Encode a message\")\n",
    "        print(\"[3]: Decode a message\")\n",
    "        print(\"[4]: Exit\")\n",
    "        userChoice = int(input())\n",
    "        \n",
    "\n",
    "\n",
    "\n",
    "        if (userChoice == 1):\n",
    "            print(\"Please enter a large prime number for p\")\n",
    "            p = int(input())\n",
    "            print(\"Please enter a large prime number for q\")\n",
    "            q = int(input())\n",
    "            n, e = Find_Public_Key_e(p, q)\n",
    "            print(\"Your public key n is\", n)\n",
    "            print(\"Your public key e is\", e)\n",
    "            d = Find_Private_Key_d(e, p, q)\n",
    "            print(\"Your private key d is\", d)\n",
    "\n",
    "        if (userChoice == 2):\n",
    "            print(\"Please enter a message to encode: \")\n",
    "            message = input()\n",
    "            encodedMessage = Encode(n, e, message)\n",
    "            print(\"Encoded Message: \", encodedMessage)\n",
    "\n",
    "        if (userChoice == 3):\n",
    "            print(\"Please enter a value n: \")\n",
    "            n = int(input())\n",
    "            print(\"Please enter the private key d: \")\n",
    "            d = int(input())\n",
    "            print(\"Please enter the ciphertext to be decoded: \")\n",
    "            ciphertext = input()\n",
    "            cipherList = [int(num.strip()) for num in ciphertext.strip(\"[]\").split(\",\")]\n",
    "            decodedMessage = Decode(n, d, cipherList)\n",
    "            print(\"Decoded Message: \", decodedMessage)\n",
    "\n",
    "        if (userChoice == 4):\n",
    "            print(\"Exiting program\")\n",
    "            break\n",
    "            \n",
    "        else: \n",
    "            print(\"Please choose a number between 1 and 4\")\n",
    "\n",
    "\n",
    "\n",
    "\n",
    "main()"
   ]
  },
  {
   "cell_type": "markdown",
   "metadata": {},
   "source": [
    "**Please use the grading guide below to self grade your Custom Feature.**\n",
    "\n",
    "GRADING FOR CUSTOM FEATURE:\n",
    "\n",
    "10 pts  Wow.  It is amazing.\n",
    "        Shows initiative and originality. \n",
    "        You did something extra special and pushed yourself.\n",
    "        You went beyond all expectations \n",
    "        You broke the rules in a creative way. \n",
    "        Your coding and commenting is exceptional.\n",
    "        Excellent \n",
    "\n",
    "7-9 points - It is GOOD! \n",
    "        You were a “self starter.” \n",
    "         You did everything  requested. \n",
    "        All expectations met. \n",
    "       \tYou did a very good job. \n",
    "        Good use of commenting.\n",
    "        Shows mastery of skills.\n",
    "\n",
    "5-6 points  - Okay.\n",
    "        Minimum requirements.\n",
    "        Commenting weak.\n",
    "\n",
    "0-4 points - It is not finished. \n",
    "            Does meet objectives. \n",
    "            Did not follow directions. \n",
    "            Chose not to do this part (which is a totally fine choice)\n"
   ]
  },
  {
   "cell_type": "markdown",
   "metadata": {},
   "source": [
    "## Self grading of custom feature ##\n",
    "\n",
    "Here in this block, please rate what score out of 8 your custom feature merits given the criteria above:\n",
    "\n",
    "* For example, if you are brand new to programming, using a main function could be an amazing feature - tell me how this helped you move to a new level.\n",
    "* In what ways did you push yourself? Did you try something you've never done before?\n",
    "* Alternatively, if you just did not have the time to do the custom feature, this is actually just fine and a reasonable choice. No judgment."
   ]
  },
  {
   "cell_type": "code",
   "execution_count": null,
   "metadata": {},
   "outputs": [],
   "source": []
  },
  {
   "cell_type": "code",
   "execution_count": null,
   "metadata": {},
   "outputs": [],
   "source": []
  }
 ],
 "metadata": {
  "kernelspec": {
   "display_name": "Python 3 (ipykernel)",
   "language": "python",
   "name": "python3"
  },
  "language_info": {
   "codemirror_mode": {
    "name": "ipython",
    "version": 3
   },
   "file_extension": ".py",
   "mimetype": "text/x-python",
   "name": "python",
   "nbconvert_exporter": "python",
   "pygments_lexer": "ipython3",
   "version": "3.11.6"
  }
 },
 "nbformat": 4,
 "nbformat_minor": 4
}
